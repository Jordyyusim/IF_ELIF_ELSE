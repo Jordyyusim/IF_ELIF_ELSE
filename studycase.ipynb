{
 "cells": [
  {
   "cell_type": "code",
   "execution_count": null,
   "metadata": {},
   "outputs": [],
   "source": [
    "#BIKIN CALCULATOR SEDERHANA\n",
    "# x = int(input('ketik angka pertama : '))\n",
    "# y = input('ketik operator (+ - * /) : ')\n",
    "# z = int(input('ketik angka kedua : '))\n",
    "# if y == '+':\n",
    "#     print(x + z)\n",
    "# elif y == '-':\n",
    "#     print(x - z)\n",
    "# elif y == '*':\n",
    "#     print(x * z)\n",
    "# elif y == '/':\n",
    "#     print(x / z)"
   ]
  },
  {
   "cell_type": "code",
   "execution_count": null,
   "metadata": {},
   "outputs": [],
   "source": [
    "#HITUNG BMI\n",
    "# massa = float(input('masukan berat badan kamu (dalam kg) : '))\n",
    "# tinggi = float(input('masukan tinggi badan kamu (dalam meter): '))\n",
    "# bmi = massa / (tinggi ** 2)\n",
    "\n",
    "# if bmi < 18.5:\n",
    "#     print('under weight')\n",
    "# elif bmi <= 24.9 and bmi >= 18.5:\n",
    "#     print('normal')\n",
    "# elif bmi <= 29.9 and bmi >= 25:\n",
    "#     print('over weight')\n",
    "# elif bmi <= 39.9 and bmi >= 30:\n",
    "#     print('obese')\n",
    "# elif bmi >= 40:\n",
    "#     print('extremly obese')"
   ]
  },
  {
   "cell_type": "code",
   "execution_count": null,
   "metadata": {},
   "outputs": [],
   "source": [
    "# username = 'Jordy'\n",
    "# password = '123'\n",
    "# user = input('ketik username : ')\n",
    "# pas = input('ketik password : ')\n",
    "\n",
    "# if user == username and password == pas:\n",
    "#     print('anda berhasil login')\n",
    "# else:\n",
    "#     print('username atau password anda salah')"
   ]
  },
  {
   "cell_type": "code",
   "execution_count": null,
   "metadata": {},
   "outputs": [],
   "source": [
    "# usernames = ['Andi', 'Budi', 'Caca']\n",
    "# passwords = ['12345', '321', '0987']\n",
    "# users = input('ketik username : ').capitalize()\n",
    "# if users in usernames:\n",
    "#     pwd = input('ketik password : ')\n",
    "#     if pwd == passwords[usernames.index(users)]:\n",
    "#         print('login sukses')\n",
    "#     else:\n",
    "#         print('password salah')\n",
    "# else:\n",
    "#     print('nama tidak terdaftar')"
   ]
  },
  {
   "cell_type": "code",
   "execution_count": null,
   "metadata": {},
   "outputs": [],
   "source": [
    "# x = {\n",
    "#     'Andi': '12345',\n",
    "#     'Budi': '321',\n",
    "#     'Caca': '0987'\n",
    "# }\n",
    "# users = input('ketik username : ').capitalize()\n",
    "# if users in x:\n",
    "#     pwd = input('ketik password : ')\n",
    "#     if pwd == x[users] :\n",
    "#         print('login sukses')\n",
    "#     else:\n",
    "#         print('password salah')\n",
    "# else:\n",
    "#     print('username salah')"
   ]
  }
 ],
 "metadata": {
  "kernelspec": {
   "display_name": "Python 3",
   "language": "python",
   "name": "python3"
  },
  "language_info": {
   "codemirror_mode": {
    "name": "ipython",
    "version": 3
   },
   "file_extension": ".py",
   "mimetype": "text/x-python",
   "name": "python",
   "nbconvert_exporter": "python",
   "pygments_lexer": "ipython3",
   "version": "3.8.1"
  }
 },
 "nbformat": 4,
 "nbformat_minor": 4
}
