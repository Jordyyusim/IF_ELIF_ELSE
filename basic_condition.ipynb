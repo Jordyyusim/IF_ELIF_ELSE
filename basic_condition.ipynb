{
 "cells": [
  {
   "cell_type": "markdown",
   "metadata": {},
   "source": [
    "#### __if condition:__ \n",
    "        program\n",
    "#### __elif condition:__\n",
    "        program\n",
    "#### __else:__\n",
    "        program"
   ]
  },
  {
   "cell_type": "markdown",
   "metadata": {},
   "source": [
    "### COMPARISON OPERATOR"
   ]
  },
  {
   "cell_type": "code",
   "execution_count": null,
   "metadata": {},
   "outputs": [],
   "source": [
    "# print(x == 12)\n",
    "# print(x != 12)\n",
    "# print(x > 12)\n",
    "# print(x >= 12)\n",
    "# print(x < 12)"
   ]
  },
  {
   "cell_type": "code",
   "execution_count": null,
   "metadata": {},
   "outputs": [],
   "source": [
    "# x = 10\n",
    "# if x == 12:\n",
    "#     print('betul')\n",
    "# elif x < 15:\n",
    "#     print('woi')\n",
    "# else:\n",
    "#     print('goblok')"
   ]
  },
  {
   "cell_type": "code",
   "execution_count": null,
   "metadata": {},
   "outputs": [],
   "source": [
    "# a = int(input('masukan angka : '))\n",
    "# if a%2 == 0:\n",
    "#     print(a, 'adalah bilangan genap')\n",
    "# else:\n",
    "#     print(a, 'adalah bilangan ganjil')"
   ]
  },
  {
   "cell_type": "code",
   "execution_count": null,
   "metadata": {},
   "outputs": [],
   "source": [
    "# jomblo = True\n",
    "# bekerja = False\n",
    "\n",
    "# if jomblo and bekerja:\n",
    "#     print('anda sudah keduanya')\n",
    "# elif not(jomblo) and bekerja:\n",
    "#     print('anda sudah menikah dan bekerja')\n",
    "# elif jomblo and not(bekerja):\n",
    "#     print('anda jomblo dan belum bekerja')\n",
    "# else:\n",
    "#     print('anda ada pacar dan belum bekerja')"
   ]
  },
  {
   "cell_type": "markdown",
   "metadata": {},
   "source": [
    "### __AND-OR CONDITIONS__\n",
    "#### and = both of them must qualify\n",
    "#### or = only one of them qualify"
   ]
  },
  {
   "cell_type": "code",
   "execution_count": null,
   "metadata": {},
   "outputs": [],
   "source": [
    "# print(1 < 2 and 3 > 5)\n",
    "# print(1 < 2 or 3 > 5)\n",
    "\n",
    "# x = 2\n",
    "# y = 3\n",
    "# z = 4\n",
    "# print(x ==1 or y == 4 and z == 4)"
   ]
  },
  {
   "cell_type": "markdown",
   "metadata": {},
   "source": [
    "### if else statement in one line\n",
    "#### VALifTRUE if condition else VALifFALSE"
   ]
  },
  {
   "cell_type": "code",
   "execution_count": null,
   "metadata": {},
   "outputs": [],
   "source": []
  }
 ],
 "metadata": {
  "kernelspec": {
   "display_name": "Python 3",
   "language": "python",
   "name": "python3"
  },
  "language_info": {
   "codemirror_mode": {
    "name": "ipython",
    "version": 3
   },
   "file_extension": ".py",
   "mimetype": "text/x-python",
   "name": "python",
   "nbconvert_exporter": "python",
   "pygments_lexer": "ipython3",
   "version": "3.8.1"
  }
 },
 "nbformat": 4,
 "nbformat_minor": 4
}
